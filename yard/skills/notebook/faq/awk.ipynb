{
 "cells": [
  {
   "cell_type": "markdown",
   "metadata": {},
   "source": [
    "# awk 用法"
   ]
  },
  {
   "cell_type": "code",
   "execution_count": null,
   "metadata": {},
   "outputs": [],
   "source": [
    "#  内置变量测试\n",
    "! cat /etc/passwd | head -10 | awk -F\":\" 'BEGIN{printf(\"file: %s\\n%s\", FILENAME, \"ABC\")}{printf(\"%04d\\t%s\\n\", NR, $1)}'"
   ]
  },
  {
   "cell_type": "code",
   "execution_count": null,
   "metadata": {},
   "outputs": [],
   "source": []
  }
 ],
 "metadata": {
  "kernelspec": {
   "display_name": "Python 3",
   "language": "python",
   "name": "python3"
  },
  "language_info": {
   "codemirror_mode": {
    "name": "ipython",
    "version": 3
   },
   "file_extension": ".py",
   "mimetype": "text/x-python",
   "name": "python",
   "nbconvert_exporter": "python",
   "pygments_lexer": "ipython3",
   "version": "3.7.6"
  }
 },
 "nbformat": 4,
 "nbformat_minor": 4
}
